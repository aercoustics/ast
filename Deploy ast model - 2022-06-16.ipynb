{
 "cells": [
  {
   "cell_type": "markdown",
   "id": "326e0a81-f294-4930-8074-a816e7919f67",
   "metadata": {},
   "source": [
    "Upload model"
   ]
  },
  {
   "cell_type": "code",
   "execution_count": 1,
   "id": "def73c51-7365-458e-a962-219b3bbc96fc",
   "metadata": {},
   "outputs": [],
   "source": [
    "from sagemaker.pytorch import PyTorchModel\n",
    "from sagemaker import get_execution_role, Session\n",
    "from sagemaker.serverless.serverless_inference_config import ServerlessInferenceConfig"
   ]
  },
  {
   "cell_type": "code",
   "execution_count": 2,
   "id": "49ba3f0a-519e-4e3c-b12f-4faa53de10a5",
   "metadata": {},
   "outputs": [],
   "source": [
    "sess = Session()\n",
    "model_data = sess.upload_data(\n",
    "        path=\"model.tar.gz\", bucket=sess.default_bucket(), key_prefix=\"model/pytorch\"\n",
    "    )"
   ]
  },
  {
   "cell_type": "code",
   "execution_count": 3,
   "id": "8564d35f-f295-47ff-8dab-2b473dce7842",
   "metadata": {},
   "outputs": [],
   "source": [
    "model = PyTorchModel(\n",
    "    entry_point=\"code/inference.py\",\n",
    "    source_dir=\"code/\",\n",
    "    role='sagemaker-execution',\n",
    "    model_data=model_data,\n",
    "    framework_version=\"1.10\",\n",
    "    py_version=\"py38\",\n",
    ")"
   ]
  },
  {
   "cell_type": "code",
   "execution_count": 4,
   "id": "18b9236f-b6f5-48c3-b344-29bc768953fb",
   "metadata": {},
   "outputs": [
    {
     "data": {
      "text/plain": [
       "(None, 's3://sagemaker-us-east-1-144349053222/model/pytorch/model.tar.gz')"
      ]
     },
     "execution_count": 4,
     "metadata": {},
     "output_type": "execute_result"
    }
   ],
   "source": [
    "model.repacked_model_data, model.model_data"
   ]
  },
  {
   "cell_type": "markdown",
   "id": "77e2e61c-4aa6-4bee-ab72-dadef565d34c",
   "metadata": {},
   "source": [
    "***\n",
    "Deploy\n",
    "- need to deploy model + endpoint like this (not sure how to deploy just model)\n",
    "- using the model, go to the sagemaker UI and create the endpoint-config manually to create serverless"
   ]
  },
  {
   "cell_type": "code",
   "execution_count": 14,
   "id": "b2199cad-4ef5-43c1-9d62-3c0b5d03a90d",
   "metadata": {},
   "outputs": [],
   "source": [
    "serverless_inference_config = ServerlessInferenceConfig(memory_size_in_mb=6144, max_concurrency=20)"
   ]
  },
  {
   "cell_type": "code",
   "execution_count": 15,
   "id": "d9828b72-624a-424b-8d11-30961adbe6eb",
   "metadata": {
    "tags": []
   },
   "outputs": [
    {
     "name": "stdout",
     "output_type": "stream",
     "text": [
      "--------!"
     ]
    }
   ],
   "source": [
    "predictor = model.deploy(endpoint_name='endpoint-2022-06-30-6GB', serverless_inference_config=serverless_inference_config)"
   ]
  },
  {
   "cell_type": "markdown",
   "id": "08be1267-b9c9-4779-b266-f81ec463a789",
   "metadata": {},
   "source": [
    "***\n",
    "Invoke"
   ]
  },
  {
   "cell_type": "code",
   "execution_count": 6,
   "id": "0d5e7295-f620-4882-81e9-8810054309df",
   "metadata": {},
   "outputs": [],
   "source": [
    "import torchaudio\n",
    "import json\n",
    "import boto3\n",
    "import ast\n",
    "import csv\n",
    "import sys\n",
    "import numpy as np\n",
    "import torch"
   ]
  },
  {
   "cell_type": "code",
   "execution_count": 2,
   "id": "be1c5975-2d2d-4799-b721-a5722af58e6f",
   "metadata": {},
   "outputs": [],
   "source": [
    "def make_features(wav_name, mel_bins, target_length=1024):\n",
    "    waveform, sr = torchaudio.load(wav_name)\n",
    "    fbank = torchaudio.compliance.kaldi.fbank(\n",
    "        waveform, htk_compat=True, sample_frequency=sr, use_energy=False,\n",
    "        window_type='hanning', num_mel_bins=mel_bins, dither=0.0,\n",
    "        frame_shift=10)\n",
    "    n_frames = fbank.shape[0]\n",
    "    p = target_length - n_frames\n",
    "    if p > 0:\n",
    "        m = torch.nn.ZeroPad2d((0, 0, 0, p))\n",
    "        fbank = m(fbank)\n",
    "    elif p < 0:\n",
    "        fbank = fbank[0:target_length, :]\n",
    "    fbank = (fbank - (-4.2677393)) / (4.5689974 * 2)\n",
    "    return fbank"
   ]
  },
  {
   "cell_type": "code",
   "execution_count": 3,
   "id": "744f11c3-f3a8-4b99-8035-84a55393b636",
   "metadata": {},
   "outputs": [
    {
     "data": {
      "text/plain": [
       "torch.Size([1024, 128])"
      ]
     },
     "execution_count": 3,
     "metadata": {},
     "output_type": "execute_result"
    }
   ],
   "source": [
    "audio_path ='2021-06-04T20_12_42.393397+0000_sEVT_FW-C-M31.wav'\n",
    "feats = make_features(audio_path, mel_bins=128)           # shape(1024, 128)\n",
    "input_tdim = feats.shape[0]\n",
    "feats_data = feats.expand(1, input_tdim, 128)           # reshape the feature\n",
    "feats.shape"
   ]
  },
  {
   "cell_type": "code",
   "execution_count": 10,
   "id": "a446a101-ef6f-4a4d-9d29-8ad225184b07",
   "metadata": {},
   "outputs": [],
   "source": [
    "# Currently rounding to 1 decimal to avoid memory issue -- test out accuracy using different round values to see tradeoff\n",
    "body = json.dumps({\"instances\": feats.numpy().astype(float).tolist()})"
   ]
  },
  {
   "cell_type": "code",
   "execution_count": 11,
   "id": "f1efdb7f-1169-48b5-92cc-316820a04bd8",
   "metadata": {},
   "outputs": [
    {
     "data": {
      "text/plain": [
       "2824948"
      ]
     },
     "execution_count": 11,
     "metadata": {},
     "output_type": "execute_result"
    }
   ],
   "source": [
    "sys.getsizeof(body)"
   ]
  },
  {
   "cell_type": "code",
   "execution_count": 12,
   "id": "e3e1206b-a37b-4062-9202-fc0ffa3c7588",
   "metadata": {
    "tags": []
   },
   "outputs": [],
   "source": [
    "# res = predictor.predict(data=body) "
   ]
  },
  {
   "cell_type": "code",
   "execution_count": 13,
   "id": "ef8a4426-1248-47c1-b0c8-b8696febc13d",
   "metadata": {
    "tags": []
   },
   "outputs": [],
   "source": [
    "client = boto3.client('sagemaker-runtime') \n",
    "content_type = 'application/json'   \n",
    "endpoint = 'endpoint-2022-06-30-6GB'\n",
    "response = client.invoke_endpoint(\n",
    "    EndpointName=endpoint,\n",
    "    Body=body,\n",
    "    ContentType=content_type\n",
    " )\n",
    "predictions = response['Body']"
   ]
  },
  {
   "cell_type": "code",
   "execution_count": 14,
   "id": "703ffd75-dd01-48c3-8923-313ddfd99204",
   "metadata": {},
   "outputs": [],
   "source": [
    "def load_label(label_csv):\n",
    "    with open(label_csv, 'r') as f:\n",
    "        reader = csv.reader(f, delimiter=',')\n",
    "        lines = list(reader)\n",
    "    labels = []\n",
    "    ids = []  # Each label has a unique id such as \"/m/068hy\"\n",
    "    for i1 in range(1, len(lines)):\n",
    "        id = lines[i1][1]\n",
    "        label = lines[i1][2]\n",
    "        ids.append(id)\n",
    "        labels.append(label)\n",
    "    return labels\n",
    "\n",
    "labels = load_label(\"class_labels_indices.csv\")\n",
    "    \n",
    "def evaluate_results(res):\n",
    "    sorted_indexes = np.argsort(res[0])[::-1]\n",
    "    print('[*INFO] predice results:')\n",
    "    for k in range(10):\n",
    "        print('{}: {:.4f}'.format(np.array(labels)[sorted_indexes[k]],\n",
    "                                  res[0][sorted_indexes[k]]))"
   ]
  },
  {
   "cell_type": "code",
   "execution_count": 15,
   "id": "74fac05e-ab04-48d5-bcf3-f98c4508a6e9",
   "metadata": {
    "tags": []
   },
   "outputs": [
    {
     "name": "stdout",
     "output_type": "stream",
     "text": [
      "[*INFO] predice results:\n",
      "Emergency vehicle: 0.5420\n",
      "Siren: 0.4673\n",
      "Police car (siren): 0.4421\n",
      "Ambulance (siren): 0.2040\n",
      "Speech: 0.1775\n",
      "Vehicle: 0.1604\n",
      "Car: 0.0928\n",
      "Bird: 0.0651\n",
      "Outside, urban or manmade: 0.0603\n",
      "Fire engine, fire truck (siren): 0.0557\n"
     ]
    }
   ],
   "source": [
    "res = json.load(predictions)\n",
    "evaluate_results(res)"
   ]
  },
  {
   "cell_type": "code",
   "execution_count": null,
   "id": "e1caee9d-151b-4bfd-a46e-771896783d26",
   "metadata": {},
   "outputs": [],
   "source": [
    "pq.io.read_wavefile(audio_path)"
   ]
  },
  {
   "cell_type": "markdown",
   "id": "7364f1f2-d9d9-4078-8cdc-f24fb5b61ef2",
   "metadata": {},
   "source": [
    "***\n",
    "Test Locally"
   ]
  },
  {
   "cell_type": "code",
   "execution_count": 20,
   "id": "54d46c5e-7d9b-4063-921c-83aa1df84370",
   "metadata": {},
   "outputs": [],
   "source": [
    "from inference import input_fn, model_fn, output_fn, predict_fn"
   ]
  },
  {
   "cell_type": "code",
   "execution_count": 9,
   "id": "802fd086-24b3-4188-a87d-e6ca9f2dda0f",
   "metadata": {},
   "outputs": [],
   "source": [
    "# model_dir = fetch_model(\"s3://sagemaker-us-east-1-144349053222/model/pytorch/ast-model-2022-06-16.tar.gz\")\n",
    "model_dir = 'test-ast-model-2022-06-16/ast-model-2022-06-16/'"
   ]
  },
  {
   "cell_type": "code",
   "execution_count": 11,
   "id": "48bdabb7-9f9f-444b-b2da-3c3e24ebdc6a",
   "metadata": {},
   "outputs": [
    {
     "name": "stdout",
     "output_type": "stream",
     "text": [
      "In model_fn. Model directory is -\n",
      "test-ast-model-2022-06-16/ast-model-2022-06-16/\n",
      "---------------AST Model Summary---------------\n",
      "ImageNet pretraining: False, AudioSet pretraining: False\n",
      "frequncey stride=10, time stride=10\n",
      "number of patches=1212\n",
      "Loading the ast model\n"
     ]
    }
   ],
   "source": [
    "# load model\n",
    "net = model_fn(model_dir)"
   ]
  },
  {
   "cell_type": "code",
   "execution_count": 12,
   "id": "2f33238c-758e-4a32-882a-319dab726649",
   "metadata": {
    "collapsed": true,
    "jupyter": {
     "outputs_hidden": true
    },
    "tags": []
   },
   "outputs": [
    {
     "name": "stdout",
     "output_type": "stream",
     "text": [
      "> \u001b[0;32m/mnt/c/Users/jnam.AERC/Desktop/Misc/ML/Sagemaker/inference.py\u001b[0m(27)\u001b[0;36minput_fn\u001b[0;34m()\u001b[0m\n",
      "\u001b[0;32m     25 \u001b[0;31m    \u001b[0mdata\u001b[0m \u001b[0;34m=\u001b[0m \u001b[0mtorch\u001b[0m\u001b[0;34m.\u001b[0m\u001b[0mtensor\u001b[0m\u001b[0;34m(\u001b[0m\u001b[0mdata\u001b[0m\u001b[0;34m,\u001b[0m \u001b[0mdtype\u001b[0m\u001b[0;34m=\u001b[0m\u001b[0mtorch\u001b[0m\u001b[0;34m.\u001b[0m\u001b[0mfloat32\u001b[0m\u001b[0;34m,\u001b[0m \u001b[0mdevice\u001b[0m\u001b[0;34m=\u001b[0m\u001b[0mdevice\u001b[0m\u001b[0;34m)\u001b[0m\u001b[0;34m\u001b[0m\u001b[0;34m\u001b[0m\u001b[0m\n",
      "\u001b[0m\u001b[0;32m     26 \u001b[0;31m    \u001b[0;32mimport\u001b[0m \u001b[0mpdb\u001b[0m\u001b[0;34m;\u001b[0m \u001b[0mpdb\u001b[0m\u001b[0;34m.\u001b[0m\u001b[0mset_trace\u001b[0m\u001b[0;34m(\u001b[0m\u001b[0;34m)\u001b[0m\u001b[0;34m\u001b[0m\u001b[0;34m\u001b[0m\u001b[0m\n",
      "\u001b[0m\u001b[0;32m---> 27 \u001b[0;31m    \u001b[0mdata\u001b[0m \u001b[0;34m=\u001b[0m \u001b[0mdata\u001b[0m\u001b[0;34m.\u001b[0m\u001b[0mexpand\u001b[0m\u001b[0;34m(\u001b[0m\u001b[0;36m1\u001b[0m\u001b[0;34m,\u001b[0m \u001b[0mdata\u001b[0m\u001b[0;34m.\u001b[0m\u001b[0mshape\u001b[0m\u001b[0;34m[\u001b[0m\u001b[0;36m0\u001b[0m\u001b[0;34m]\u001b[0m\u001b[0;34m,\u001b[0m \u001b[0;36m128\u001b[0m\u001b[0;34m)\u001b[0m           \u001b[0;31m# reshape the feature\u001b[0m\u001b[0;34m\u001b[0m\u001b[0;34m\u001b[0m\u001b[0m\n",
      "\u001b[0m\u001b[0;32m     28 \u001b[0;31m    \u001b[0;32mreturn\u001b[0m \u001b[0mdata\u001b[0m\u001b[0;34m\u001b[0m\u001b[0;34m\u001b[0m\u001b[0m\n",
      "\u001b[0m\u001b[0;32m     29 \u001b[0;31m\u001b[0;34m\u001b[0m\u001b[0m\n",
      "\u001b[0m\n"
     ]
    },
    {
     "name": "stdin",
     "output_type": "stream",
     "text": [
      "ipdb>  data.shape[0\n"
     ]
    },
    {
     "name": "stdout",
     "output_type": "stream",
     "text": [
      "*** SyntaxError: unexpected EOF while parsing\n"
     ]
    },
    {
     "name": "stdin",
     "output_type": "stream",
     "text": [
      "ipdb>  data.shape[0]\n"
     ]
    },
    {
     "name": "stdout",
     "output_type": "stream",
     "text": [
      "1024\n"
     ]
    },
    {
     "name": "stdin",
     "output_type": "stream",
     "text": [
      "ipdb>  c\n"
     ]
    }
   ],
   "source": [
    "# get prediction\n",
    "input_object = input_fn(body, content_type)\n",
    "predictions = predict_fn(input_object, net)\n",
    "res = output_fn(predictions, content_type)"
   ]
  },
  {
   "cell_type": "code",
   "execution_count": 40,
   "id": "aa440c54-4989-41d1-a661-788203ffccda",
   "metadata": {},
   "outputs": [],
   "source": [
    "result_output = ast.literal_eval(res)[0]\n",
    "sorted_indexes = np.argsort(result_output)[::-1]"
   ]
  },
  {
   "cell_type": "code",
   "execution_count": 42,
   "id": "5684767f-b5df-468a-a92d-96a533f53641",
   "metadata": {},
   "outputs": [
    {
     "name": "stdout",
     "output_type": "stream",
     "text": [
      "[*INFO] predice results:\n",
      "Emergency vehicle: 0.5659\n",
      "Siren: 0.5038\n",
      "Police car (siren): 0.4735\n",
      "Ambulance (siren): 0.2245\n",
      "Speech: 0.1997\n",
      "Vehicle: 0.1923\n",
      "Car: 0.1047\n",
      "Fire engine, fire truck (siren): 0.0630\n",
      "Bird: 0.0603\n",
      "Outside, urban or manmade: 0.0515\n"
     ]
    }
   ],
   "source": [
    "print('[*INFO] predice results:')\n",
    "for k in range(10):\n",
    "    print('{}: {:.4f}'.format(np.array(labels)[sorted_indexes[k]],\n",
    "                              result_output[sorted_indexes[k]]))"
   ]
  },
  {
   "cell_type": "code",
   "execution_count": null,
   "id": "8abf4858-ae05-4b13-b3af-01ab339d08a7",
   "metadata": {},
   "outputs": [],
   "source": []
  }
 ],
 "metadata": {
  "kernelspec": {
   "display_name": "Python 3 (ipykernel)",
   "language": "python",
   "name": "python3"
  },
  "language_info": {
   "codemirror_mode": {
    "name": "ipython",
    "version": 3
   },
   "file_extension": ".py",
   "mimetype": "text/x-python",
   "name": "python",
   "nbconvert_exporter": "python",
   "pygments_lexer": "ipython3",
   "version": "3.9.5"
  }
 },
 "nbformat": 4,
 "nbformat_minor": 5
}
